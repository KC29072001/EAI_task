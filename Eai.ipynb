{
 "cells": [
  {
   "cell_type": "code",
   "execution_count": 1,
   "id": "503bb8b2-2387-4dbc-8769-89c035b08b53",
   "metadata": {
    "tags": []
   },
   "outputs": [],
   "source": [
    "import tensorflow as tf\n",
    "from transformers import TFAutoModel, AutoTokenizer\n",
    "from datasets import load_dataset"
   ]
  },
  {
   "cell_type": "code",
   "execution_count": 2,
   "id": "b2270197-ae49-41f4-8579-728685ad0395",
   "metadata": {
    "tags": []
   },
   "outputs": [
    {
     "name": "stderr",
     "output_type": "stream",
     "text": [
      "Some weights of the PyTorch model were not used when initializing the TF 2.0 model TFBertModel: ['cls.predictions.transform.dense.bias', 'cls.seq_relationship.weight', 'cls.predictions.bias', 'cls.predictions.transform.dense.weight', 'cls.predictions.transform.LayerNorm.weight', 'cls.seq_relationship.bias', 'cls.predictions.transform.LayerNorm.bias']\n",
      "- This IS expected if you are initializing TFBertModel from a PyTorch model trained on another task or with another architecture (e.g. initializing a TFBertForSequenceClassification model from a BertForPreTraining model).\n",
      "- This IS NOT expected if you are initializing TFBertModel from a PyTorch model that you expect to be exactly identical (e.g. initializing a TFBertForSequenceClassification model from a BertForSequenceClassification model).\n",
      "All the weights of TFBertModel were initialized from the PyTorch model.\n",
      "If your task is similar to the task the model of the checkpoint was trained on, you can already use TFBertModel for predictions without further training.\n"
     ]
    }
   ],
   "source": [
    "model = TFAutoModel.from_pretrained(\"bert-base-uncased\")"
   ]
  },
  {
   "cell_type": "code",
   "execution_count": 3,
   "id": "b67d77c4-6fb5-41d5-b8bf-6c38ae2f7350",
   "metadata": {
    "tags": []
   },
   "outputs": [],
   "source": [
    "tokenizer = AutoTokenizer.from_pretrained(\"bert-base-uncased\")"
   ]
  },
  {
   "cell_type": "code",
   "execution_count": 29,
   "id": "2015a35c-8c52-47e5-ace9-f3461aa9997b",
   "metadata": {
    "tags": []
   },
   "outputs": [
    {
     "data": {
      "text/plain": [
       "{'input_ids': <tf.Tensor: shape=(2, 6), dtype=int32, numpy=\n",
       "array([[ 101, 7592, 2088,  102,    0,    0],\n",
       "       [ 101, 7632, 2129, 2024, 2017,  102]])>, 'token_type_ids': <tf.Tensor: shape=(2, 6), dtype=int32, numpy=\n",
       "array([[0, 0, 0, 0, 0, 0],\n",
       "       [0, 0, 0, 0, 0, 0]])>, 'attention_mask': <tf.Tensor: shape=(2, 6), dtype=int32, numpy=\n",
       "array([[1, 1, 1, 1, 0, 0],\n",
       "       [1, 1, 1, 1, 1, 1]])>}"
      ]
     },
     "execution_count": 29,
     "metadata": {},
     "output_type": "execute_result"
    }
   ],
   "source": [
    "# this inp shd take from user as inp \n",
    "inp = ['Hello world', 'Hi how are you']\n",
    "inputs = tokenizer(inp, padding=True, truncation=True, return_tensors='tf')\n",
    "inputs"
   ]
  },
  {
   "cell_type": "code",
   "execution_count": 21,
   "id": "0f1b355d-369a-418c-bd7e-191846afd04f",
   "metadata": {
    "tags": []
   },
   "outputs": [
    {
     "data": {
      "text/plain": [
       "TFBaseModelOutputWithPoolingAndCrossAttentions(last_hidden_state=<tf.Tensor: shape=(2, 6, 768), dtype=float32, numpy=\n",
       "array([[[-0.21088697,  0.11262984, -0.15112709, ..., -0.5123425 ,\n",
       "          0.00360312,  0.3305137 ],\n",
       "        [-0.5312121 ,  0.08091751,  0.98387825, ...,  0.0910192 ,\n",
       "          0.15193745,  0.31607923],\n",
       "        [-0.81602246, -0.6659761 , -0.08843648, ..., -0.2080327 ,\n",
       "          0.06849274, -0.5728676 ],\n",
       "        [ 0.89145756,  0.11419122, -0.18477052, ...,  0.10600633,\n",
       "         -0.66406184, -0.27207452],\n",
       "        [-0.4692797 , -0.00563174,  0.55745786, ..., -0.15241298,\n",
       "          0.02615247,  0.16874756],\n",
       "        [-0.67426646, -0.23956752,  0.15571368, ..., -0.08268501,\n",
       "         -0.01054372, -0.03581863]],\n",
       "\n",
       "       [[ 0.09104545, -0.02801905, -0.12474953, ..., -0.16195123,\n",
       "          0.10934503,  0.16669227],\n",
       "        [ 0.4649679 , -0.0777914 ,  0.73076236, ..., -0.63110435,\n",
       "          0.5957395 , -0.40303573],\n",
       "        [-0.15863381, -0.6669987 , -0.36142293, ...,  0.23554692,\n",
       "          0.43797576, -0.9549053 ],\n",
       "        [ 0.3507248 , -1.3571376 , -0.08695891, ..., -0.3076579 ,\n",
       "          0.2253288 , -0.5277801 ],\n",
       "        [-0.11607593, -1.3970193 ,  0.13254163, ...,  0.13692603,\n",
       "          0.36172202, -0.66660583],\n",
       "        [ 0.6288888 , -0.27521127, -0.377724  , ...,  0.31674427,\n",
       "         -0.41666013, -0.20746349]]], dtype=float32)>, pooler_output=<tf.Tensor: shape=(2, 768), dtype=float32, numpy=\n",
       "array([[-0.8764458 , -0.28521463, -0.29934707, ...,  0.02706155,\n",
       "        -0.64657205,  0.8852332 ],\n",
       "       [-0.8936076 , -0.2748071 , -0.1548821 , ...,  0.01068397,\n",
       "        -0.6602145 ,  0.8994301 ]], dtype=float32)>, past_key_values=None, hidden_states=None, attentions=None, cross_attentions=None)"
      ]
     },
     "execution_count": 21,
     "metadata": {},
     "output_type": "execute_result"
    }
   ],
   "source": [
    "output = model(inputs)\n",
    "output"
   ]
  },
  {
   "cell_type": "code",
   "execution_count": 6,
   "id": "8a290cf7-06ab-422e-b4a0-9a82c13b3c79",
   "metadata": {
    "tags": []
   },
   "outputs": [
    {
     "name": "stderr",
     "output_type": "stream",
     "text": [
      "Repo card metadata block was not found. Setting CardData to empty.\n"
     ]
    }
   ],
   "source": [
    "emotions = load_dataset('SetFit/emotion')"
   ]
  },
  {
   "cell_type": "code",
   "execution_count": 22,
   "id": "7d895735-e0cc-4fee-91d4-1b41bd172544",
   "metadata": {
    "tags": []
   },
   "outputs": [],
   "source": [
    "# tok the ds whole\n",
    "def tokenize(batch):\n",
    "    return tokenizer(batch[\"text\"], padding=True, truncation=True)"
   ]
  },
  {
   "cell_type": "code",
   "execution_count": 28,
   "id": "ab13f92d-227d-4631-9060-5e9513811eff",
   "metadata": {
    "tags": []
   },
   "outputs": [],
   "source": [
    "# setting 'input_ids', 'attention_mask', 'token_type_ids', and 'label'\n",
    "# to the tensorflow format. Now if you access this dataset you will get these\n",
    "# columns in `tf.Tensor` format\n",
    "\n",
    "emotions_encoded.set_format('tf',columns=['input_ids', 'attention_mask', 'token_type_ids', 'label'])\n",
    "\n",
    "# setting BATCH_SIZE to 64.\n",
    "BATCH_SIZE = 64\n",
    "\n",
    "def order(inp):\n",
    "    '''\n",
    "    This function will group all the inputs of BERT\n",
    "    into a single dictionary and then output it with\n",
    "    labels.\n",
    "    '''\n",
    "    data = list(inp.values())\n",
    "    return {\n",
    "        'input_ids': data[1],\n",
    "        'attention_mask': data[2],\n",
    "        'token_type_ids': data[3]\n",
    "    }, data[0]\n",
    "\n",
    "# converting train split of `emotions_encoded` to tensorflow format\n",
    "train_dataset = tf.data.Dataset.from_tensor_slices(emotions_encoded['train'][:])\n",
    "# set batch_size and shuffle\n",
    "train_dataset = train_dataset.batch(BATCH_SIZE).shuffle(1000)\n",
    "# map the `order` function\n",
    "train_dataset = train_dataset.map(order, num_parallel_calls=tf.data.AUTOTUNE)\n",
    "\n",
    "# ... doing the same for test set ...\n",
    "test_dataset = tf.data.Dataset.from_tensor_slices(emotions_encoded['test'][:])\n",
    "test_dataset = test_dataset.batch(BATCH_SIZE)\n",
    "test_dataset = test_dataset.map(order, num_parallel_calls=tf.data.AUTOTUNE)"
   ]
  },
  {
   "cell_type": "code",
   "execution_count": 24,
   "id": "b8564f97-afe1-46f3-bf73-2a225e10773f",
   "metadata": {
    "tags": []
   },
   "outputs": [],
   "source": [
    "class BERTForClassification(tf.keras.Model):\n",
    "    \n",
    "    def __init__(self, bert_model, num_classes):\n",
    "        super().__init__()\n",
    "        self.bert = bert_model\n",
    "        self.fc = tf.keras.layers.Dense(num_classes, activation='softmax')\n",
    "        \n",
    "        # softmx for 0/1 op only not in pretrain model \n",
    "        \n",
    "        \n",
    "    def call(self, inputs):\n",
    "        x = self.bert(inputs)[1]\n",
    "        return self.fc(x)"
   ]
  },
  {
   "cell_type": "code",
   "execution_count": 25,
   "id": "a296dcb2-0e38-4353-9c36-22803aa398aa",
   "metadata": {
    "tags": []
   },
   "outputs": [],
   "source": [
    "classifier = BERTForClassification(model, num_classes=6)\n",
    "\n",
    "classifier.compile(\n",
    "    optimizer=tf.keras.optimizers.Adam(learning_rate=1e-5),\n",
    "    loss=tf.keras.losses.SparseCategoricalCrossentropy(),\n",
    "    metrics=['accuracy']\n",
    ")"
   ]
  },
  {
   "cell_type": "code",
   "execution_count": 26,
   "id": "638890d5-cd8b-4bf8-b98b-80395d53dda0",
   "metadata": {
    "tags": []
   },
   "outputs": [
    {
     "name": "stdout",
     "output_type": "stream",
     "text": [
      "250/250 [==============================] - 4613s 18s/step - loss: 0.9894 - accuracy: 0.6391\n"
     ]
    }
   ],
   "source": [
    "history = classifier.fit(\n",
    "    train_dataset,\n",
    "    epochs=1\n",
    ")"
   ]
  },
  {
   "cell_type": "code",
   "execution_count": 27,
   "id": "e6231686-aa19-426c-ac51-d1068e9779fe",
   "metadata": {
    "tags": []
   },
   "outputs": [
    {
     "name": "stdout",
     "output_type": "stream",
     "text": [
      "32/32 [==============================] - 143s 4s/step - loss: 0.3698 - accuracy: 0.8740\n"
     ]
    },
    {
     "data": {
      "text/plain": [
       "[0.3698185086250305, 0.8740000128746033]"
      ]
     },
     "execution_count": 27,
     "metadata": {},
     "output_type": "execute_result"
    }
   ],
   "source": [
    "classifier.evaluate(test_dataset)"
   ]
  },
  {
   "cell_type": "code",
   "execution_count": null,
   "id": "71bbcbbb-b6d5-40cf-9cec-7c47c75b5741",
   "metadata": {},
   "outputs": [],
   "source": []
  }
 ],
 "metadata": {
  "kernelspec": {
   "display_name": "Python 3 (ipykernel)",
   "language": "python",
   "name": "python3"
  },
  "language_info": {
   "codemirror_mode": {
    "name": "ipython",
    "version": 3
   },
   "file_extension": ".py",
   "mimetype": "text/x-python",
   "name": "python",
   "nbconvert_exporter": "python",
   "pygments_lexer": "ipython3",
   "version": "3.11.3"
  }
 },
 "nbformat": 4,
 "nbformat_minor": 5
}
